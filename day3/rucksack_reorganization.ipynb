{
 "cells": [
  {
   "cell_type": "code",
   "execution_count": null,
   "metadata": {},
   "outputs": [],
   "source": [
    "foo = \"vJrwpWtwJgWrhcsFMMfFFhFp\"\n",
    "\n",
    "# split foo in half\n",
    "foo = [foo[:len(foo)//2], foo[len(foo)//2:]]\n",
    "print(foo)"
   ]
  },
  {
   "cell_type": "code",
   "execution_count": null,
   "metadata": {},
   "outputs": [],
   "source": [
    "import os\n",
    "# if not in day3 folder, change directory\n",
    "if os.getcwd().split(\"/\")[-1] != \"day3\":\n",
    "    os.chdir(\"day3\")\n",
    "data = open(\"data.txt\", \"r\").readlines()\n",
    "data = [x.strip() for x in data]\n",
    "print(data)"
   ]
  },
  {
   "cell_type": "code",
   "execution_count": null,
   "metadata": {},
   "outputs": [],
   "source": [
    "# check for even number of characters in each item of data\n",
    "for item in data:\n",
    "    if len(item) % 2 != 0:\n",
    "        print(\"Error: odd number of characters in data\")"
   ]
  },
  {
   "cell_type": "code",
   "execution_count": null,
   "metadata": {},
   "outputs": [],
   "source": [
    "# check type of each item in data\n",
    "counter = -1\n",
    "for item in data:\n",
    "    counter += 1\n",
    "    if not isinstance(item, str):\n",
    "        print(\"Error: non-string item in data\")\n",
    "        print(item)\n",
    "        print(counter)\n",
    "        "
   ]
  },
  {
   "cell_type": "code",
   "execution_count": null,
   "metadata": {},
   "outputs": [],
   "source": [
    "# split each item in data in half\n",
    "split_data = []\n",
    "for item in data:\n",
    "    split_data.append([item[:len(str(item))//2], item[len(str(item))//2:]])\n",
    "print(split_data)\n"
   ]
  },
  {
   "cell_type": "code",
   "execution_count": null,
   "metadata": {},
   "outputs": [],
   "source": [
    "# general function to find the set of characters that are in both strings\n",
    "def find_common_characters(string1, string2):\n",
    "    common_characters = \"\"\n",
    "    for character in string1:\n",
    "        if character in string2:\n",
    "            common_characters += character\n",
    "    return common_characters\n",
    "\n",
    "# find the common characters in each pair of strings\n",
    "common_characters = []\n",
    "for pair in split_data:\n",
    "    common_characters.append(find_common_characters(pair[0], pair[1]))\n",
    "print(common_characters)"
   ]
  },
  {
   "cell_type": "code",
   "execution_count": null,
   "metadata": {},
   "outputs": [],
   "source": [
    "# for each string in common_characters, deduplicate the characters\n",
    "deduplicated_common_characters = []\n",
    "for string in common_characters:\n",
    "    deduplicated_common_characters.append(\"\".join(set(string)))\n",
    "print(deduplicated_common_characters)"
   ]
  },
  {
   "cell_type": "code",
   "execution_count": null,
   "metadata": {},
   "outputs": [],
   "source": [
    "# function to find the priority of each character\n",
    "# Lowercase item types a through z have priorities 1 through 26.\n",
    "# Uppercase item types A through Z have priorities 27 through 52.\n",
    "\n",
    "def find_priority(character):\n",
    "    if character.islower():\n",
    "        return ord(character) - 96\n",
    "    else:\n",
    "        return ord(character) - 38\n",
    "\n",
    "# find the priority of each character in each string\n",
    "priorities = []\n",
    "for string in deduplicated_common_characters:\n",
    "    priorities.append([find_priority(character) for character in string])\n",
    "print(priorities)"
   ]
  },
  {
   "cell_type": "code",
   "execution_count": null,
   "metadata": {},
   "outputs": [],
   "source": [
    "# zip together deduplicated_common_characters and priorities\n",
    "zipped = []\n",
    "for i in range(len(deduplicated_common_characters)):\n",
    "    zipped.append(list(zip(deduplicated_common_characters[i], priorities[i])))\n",
    "print(zipped)"
   ]
  },
  {
   "cell_type": "code",
   "execution_count": null,
   "metadata": {},
   "outputs": [],
   "source": [
    "# print the sum of the priorities for each string\n",
    "print(sum([sum(x) for x in priorities]))"
   ]
  },
  {
   "cell_type": "code",
   "execution_count": null,
   "metadata": {},
   "outputs": [],
   "source": [
    "test_data = '''\n",
    "vJrwpWtwJgWrhcsFMMfFFhFp\n",
    "jqHRNqRjqzjGDLGLrsFMfFZSrLrFZsSL\n",
    "PmmdzqPrVvPwwTWBwg\n",
    "wMqvLMZHhHMvwLHjbvcjnnSBnvTQFn\n",
    "ttgJtRGJQctTZtZT\n",
    "CrZsJsPPZsGzwwsLwLmpwMDw\n",
    "'''\n",
    "\n",
    "test_data = test_data.strip().split()\n",
    "print(test_data)\n"
   ]
  },
  {
   "cell_type": "code",
   "execution_count": null,
   "metadata": {},
   "outputs": [],
   "source": [
    "split_test_data = []\n",
    "for item in test_data:\n",
    "    split_test_data.append([item[:len(str(item))//2], item[len(str(item))//2:]])\n",
    "print(split_test_data)\n"
   ]
  },
  {
   "cell_type": "code",
   "execution_count": null,
   "metadata": {},
   "outputs": [],
   "source": [
    "for pair in split_test_data:\n",
    "    print(find_common_characters(pair[0], pair[1]))"
   ]
  },
  {
   "cell_type": "code",
   "execution_count": null,
   "metadata": {},
   "outputs": [],
   "source": [
    "priority_sum = 0\n",
    "for pair in split_test_data:\n",
    "    common_characters = find_common_characters(pair[0], pair[1])\n",
    "    deduplicated_common_characters = \"\".join(set(common_characters))\n",
    "    priorities = [find_priority(character) for character in deduplicated_common_characters]\n",
    "    priority_sum += sum(priorities)\n",
    "\n",
    "print(priority_sum)"
   ]
  },
  {
   "cell_type": "code",
   "execution_count": null,
   "metadata": {},
   "outputs": [],
   "source": [
    "# split data list into groups of three\n",
    "data = [data[i:i+3] for i in range(0, len(data), 3)]\n",
    "len(data)\n"
   ]
  },
  {
   "cell_type": "code",
   "execution_count": null,
   "metadata": {},
   "outputs": [],
   "source": [
    "# find the common characters in each trio of strings\n",
    "common_characters = []\n",
    "for trio in data:\n",
    "    common = set.intersection(*map(set, trio))\n",
    "    common_characters.append(common)\n",
    "print(common_characters)"
   ]
  },
  {
   "cell_type": "code",
   "execution_count": null,
   "metadata": {},
   "outputs": [],
   "source": [
    "priority_sum = 0\n",
    "for item in common_characters:\n",
    "    for character in item:\n",
    "        priority_sum += find_priority(character)\n",
    "\n",
    "print(priority_sum)"
   ]
  },
  {
   "cell_type": "code",
   "execution_count": null,
   "metadata": {},
   "outputs": [],
   "source": []
  }
 ],
 "metadata": {
  "kernelspec": {
   "display_name": "Python 3.10.8 64-bit",
   "language": "python",
   "name": "python3"
  },
  "language_info": {
   "codemirror_mode": {
    "name": "ipython",
    "version": 3
   },
   "file_extension": ".py",
   "mimetype": "text/x-python",
   "name": "python",
   "nbconvert_exporter": "python",
   "pygments_lexer": "ipython3",
   "version": "3.10.8"
  },
  "orig_nbformat": 4,
  "vscode": {
   "interpreter": {
    "hash": "b0fa6594d8f4cbf19f97940f81e996739fb7646882a419484c72d19e05852a7e"
   }
  }
 },
 "nbformat": 4,
 "nbformat_minor": 2
}
