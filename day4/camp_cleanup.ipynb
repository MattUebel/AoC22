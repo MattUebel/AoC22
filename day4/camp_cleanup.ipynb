{
 "cells": [
  {
   "cell_type": "code",
   "execution_count": null,
   "metadata": {},
   "outputs": [],
   "source": [
    "test_data = '''2-4,6-8\n",
    "2-3,4-5\n",
    "5-7,7-9\n",
    "2-8,3-7\n",
    "6-6,4-6\n",
    "2-6,4-8'''\n",
    "\n",
    "def parse_data(data):\n",
    "    \"\"\"Parse the data into a list of intervals.\"\"\"\n",
    "    elf_pairs = []\n",
    "    for line in data:\n",
    "        elf_pair = []\n",
    "        for elf in line.split(','):\n",
    "            start, end = elf.split('-')\n",
    "            elf_pair.append(range(int(start), int(end)))\n",
    "        elf_pairs.append(elf_pair)\n",
    "    return elf_pairs\n",
    "\n",
    "print(parse_data(test_data.split('\\n')))"
   ]
  },
  {
   "cell_type": "code",
   "execution_count": null,
   "metadata": {},
   "outputs": [],
   "source": [
    "# find ranges that overlap\n",
    "def find_if_subset(elf_pair):\n",
    "    if set(elf_pair[0]).issubset(elf_pair[1]):\n",
    "        print(f\"set {elf_pair[0]} is a subset of {elf_pair[1]}\")\n",
    "        return True\n",
    "    elif set(elf_pair[1]).issubset(elf_pair[0]):\n",
    "        print(f\"set {elf_pair[1]} is a subset of {elf_pair[0]}\")\n",
    "        return True\n",
    "    else:\n",
    "        #print(f\"set {elf_pair[0]} and {elf_pair[1]} do not overlap\")\n",
    "        return False\n",
    "\n",
    "def find_if_all_in_list(elf_pair):\n",
    "    if(all(x in elf_pair[0] for x in elf_pair[1])):\n",
    "        print(f\"set {elf_pair[1]} is a subset of {elf_pair[0]}\")\n",
    "        return True\n",
    "    elif(all(x in elf_pair[1] for x in elf_pair[0])):\n",
    "        print(f\"set {elf_pair[0]} is a subset of {elf_pair[1]}\")\n",
    "        return True\n",
    "    else:\n",
    "        #print(f\"set {elf_pair[0]} and {elf_pair[1]} do not overlap\")\n",
    "        return False\n",
    "\n",
    "assignment_overlap_count = 0\n",
    "for elf_pair in parse_data(test_data.split('\\n')):\n",
    "    if find_if_all_in_list(elf_pair):\n",
    "        assignment_overlap_count += 1\n",
    "\n",
    "print(assignment_overlap_count)"
   ]
  },
  {
   "cell_type": "code",
   "execution_count": null,
   "metadata": {},
   "outputs": [],
   "source": [
    "data = [line.strip() for line in open('data.txt').readlines()]\n",
    "print(data)"
   ]
  },
  {
   "cell_type": "code",
   "execution_count": null,
   "metadata": {},
   "outputs": [],
   "source": [
    "print(parse_data(data))"
   ]
  },
  {
   "cell_type": "code",
   "execution_count": null,
   "metadata": {},
   "outputs": [],
   "source": [
    "assignment_overlap_count = 0\n",
    "for elf_pair in parse_data(data):\n",
    "    if find_if_all_in_list(elf_pair):\n",
    "        assignment_overlap_count += 1\n",
    "\n",
    "print(assignment_overlap_count)"
   ]
  },
  {
   "cell_type": "code",
   "execution_count": null,
   "metadata": {},
   "outputs": [],
   "source": [
    "\n",
    "# Define a function to check if one range fully contains another\n",
    "def is_contained(range1, range2):\n",
    "    # Parse the range strings into start and end values\n",
    "    start1, end1 = map(int, range1.split('-'))\n",
    "    start2, end2 = map(int, range2.split('-'))\n",
    "    # Check if one range fully contains the other\n",
    "    if (start1 <= start2 and end1 >= end2) or (start2 <= start1 and end2 >= end1):\n",
    "        return True\n",
    "    else:\n",
    "        return False\n",
    "\n",
    "# Open the input file and read the pairs of ranges\n",
    "with open('data.txt') as file:\n",
    "    pairs = [line.strip() for line in file.readlines()]\n",
    "\n",
    "# Count the number of pairs where one range fully contains the other\n",
    "count = 0\n",
    "for pair in pairs:\n",
    "    # Split the pair into the two ranges\n",
    "    range1, range2 = pair.split(',')\n",
    "    # Check if one range fully contains the other\n",
    "    if is_contained(range1, range2) or is_contained(range2, range1):\n",
    "        count += 1\n",
    "\n",
    "# Print the result\n",
    "print(f'In {count} assignment pairs, one range fully contains the other.')"
   ]
  },
  {
   "cell_type": "code",
   "execution_count": null,
   "metadata": {},
   "outputs": [],
   "source": [
    "\n",
    "def overlaps_at_all(range1, range2):\n",
    "    # Parse the range strings into start and end values\n",
    "    start1, end1 = map(int, range1.split(\"-\"))\n",
    "    start2, end2 = map(int, range2.split(\"-\"))\n",
    "    # check if the ranges overlap at all\n",
    "    if (start1 < start2 and end1 < start2) or (start2 < start1 and end2 < start1):\n",
    "        return False\n",
    "    else:\n",
    "        return True\n",
    "\n",
    "print(overlaps_at_all('2-5', '6-8'))"
   ]
  },
  {
   "cell_type": "code",
   "execution_count": null,
   "metadata": {},
   "outputs": [],
   "source": []
  }
 ],
 "metadata": {
  "kernelspec": {
   "display_name": "Python 3.10.8 64-bit",
   "language": "python",
   "name": "python3"
  },
  "language_info": {
   "codemirror_mode": {
    "name": "ipython",
    "version": 3
   },
   "file_extension": ".py",
   "mimetype": "text/x-python",
   "name": "python",
   "nbconvert_exporter": "python",
   "pygments_lexer": "ipython3",
   "version": "3.10.8"
  },
  "orig_nbformat": 4,
  "vscode": {
   "interpreter": {
    "hash": "b0fa6594d8f4cbf19f97940f81e996739fb7646882a419484c72d19e05852a7e"
   }
  }
 },
 "nbformat": 4,
 "nbformat_minor": 2
}
