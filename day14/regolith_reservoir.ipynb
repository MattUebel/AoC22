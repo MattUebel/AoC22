{
 "cells": [
  {
   "cell_type": "code",
   "execution_count": null,
   "metadata": {},
   "outputs": [],
   "source": [
    "class Cave:\n",
    "    def __init__(self, coordinates):\n",
    "        self.rock_structures = coordinates\n",
    "        \n",
    "    def initialize_cave(self):\n",
    "        # Initialize the cave map as a grid of empty space\n",
    "        cave_map = []\n",
    "        for i in range(10):\n",
    "            cave_map.append([\".\"] * 10)\n",
    "            \n",
    "        # Add the rock structures to the cave map\n",
    "        for structure in self.rock_structures:\n",
    "            x, y = structure\n",
    "            cave_map[y][x] = \"#\"\n",
    "            \n",
    "        return cave_map\n",
    "\n",
    "# Initialize the cave with the given coordinates\n",
    "coordinates = [\n",
    "    [(498,4), (498,6), (496,6)],\n",
    "    [(503,4), (502,4), (502,9), (494,9)]\n",
    "]\n",
    "cave = Cave(coordinates)\n",
    "\n",
    "# Initialize the cave map with the rock structures\n",
    "cave_map = cave.initialize_cave()\n",
    "\n",
    "# Print the cave map\n",
    "for row in cave_map:\n",
    "    print(\"\".join(row))\n"
   ]
  },
  {
   "cell_type": "code",
   "execution_count": null,
   "metadata": {},
   "outputs": [],
   "source": [
    "class Cave:\n",
    "    def __init__(self, paths):\n",
    "        # Create an empty grid representing the cave\n",
    "        self.grid = []\n",
    "        for y in range(10):\n",
    "            row = []\n",
    "            for x in range(10):\n",
    "                row.append('.')\n",
    "            self.grid.append(row)\n",
    "\n",
    "        # Parse the input and add the rock structures to the grid\n",
    "        for path in paths:\n",
    "            coords = path.split(' -> ')\n",
    "            for coord in coords:\n",
    "                x, y = coord.split(',')\n",
    "                self.grid[int(y)][int(x)] = '#'\n",
    "\n",
    "        # Add the source of sand to the grid\n",
    "        self.grid[0][500] = '+'\n",
    "\n",
    "    def __str__(self):\n",
    "        # Convert the grid to a string and return it\n",
    "        s = ''\n",
    "        for row in self.grid:\n",
    "            s += ' '.join(row) + '\\n'\n",
    "        return s\n",
    "\n",
    "# Example usage\n",
    "paths = ['498,4 -> 498,6 -> 496,6', '503,4 -> 502,4 -> 502,9 -> 494,9']\n",
    "cave = Cave(paths)\n",
    "print(cave.grid)\n"
   ]
  },
  {
   "cell_type": "code",
   "execution_count": null,
   "metadata": {},
   "outputs": [],
   "source": []
  }
 ],
 "metadata": {
  "kernelspec": {
   "display_name": "Python 3.10.8 64-bit",
   "language": "python",
   "name": "python3"
  },
  "language_info": {
   "codemirror_mode": {
    "name": "ipython",
    "version": 3
   },
   "file_extension": ".py",
   "mimetype": "text/x-python",
   "name": "python",
   "nbconvert_exporter": "python",
   "pygments_lexer": "ipython3",
   "version": "3.10.8"
  },
  "orig_nbformat": 4,
  "vscode": {
   "interpreter": {
    "hash": "b0fa6594d8f4cbf19f97940f81e996739fb7646882a419484c72d19e05852a7e"
   }
  }
 },
 "nbformat": 4,
 "nbformat_minor": 2
}
