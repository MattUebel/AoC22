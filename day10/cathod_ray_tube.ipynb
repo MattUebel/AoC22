{
 "cells": [
  {
   "cell_type": "code",
   "execution_count": null,
   "metadata": {},
   "outputs": [],
   "source": [
    "\n",
    "# read the input\n",
    "instructions = open(\"test.txt\").read().splitlines()\n",
    "print(len(instructions))"
   ]
  },
  {
   "cell_type": "code",
   "execution_count": null,
   "metadata": {},
   "outputs": [],
   "source": [
    "print(\"hello world\")"
   ]
  },
  {
   "cell_type": "code",
   "execution_count": null,
   "metadata": {},
   "outputs": [],
   "source": [
    "# Path: day10/cathod_ray_tube.py\n",
    "\n",
    "# possible registers and their initial value\n",
    "REGISTERS = {\"X\": 1}\n",
    "\n",
    "# possible instructions and their cycle cost\n",
    "INSTRUCTIONS = {\"noop\": 1, \"addx\": 2}\n",
    "\n",
    "# init cycle\n",
    "CYCLES = []\n",
    "\n",
    "# Find the signal strength during the 20th, 60th, 100th, 140th, 180th, and 220th cycles.\n",
    "important_cycles = [20, 60, 100, 140, 180, 220]\n",
    "\n",
    "# read the progrmam from the file\n",
    "program_lines = open(\"input.txt\").read().splitlines()\n",
    "\n",
    "print(program_lines)\n",
    "\n",
    "for program_line in program_lines:\n",
    "    if program_line != \"noop\":\n",
    "        instruction, argument = program_line.split(\" \")\n",
    "    else:\n",
    "        instruction = program_line\n",
    "        argument = None\n",
    "    cycle_cost = INSTRUCTIONS[instruction]\n",
    "    while cycle_cost > 0:\n",
    "        cycle_cost -= 1\n",
    "        if instruction == \"addx\" and cycle_cost == 0:\n",
    "            REGISTERS[\"X\"] += int(argument)\n",
    "        print(f\"cycle {len(CYCLES)} {instruction} {argument} {REGISTERS['X']}\")\n",
    "        CYCLES.append(REGISTERS[\"X\"])\n",
    "\n",
    "total_signal_strength = 0\n",
    "\n",
    "for cycle in important_cycles:\n",
    "    total_signal_strength += cycle * CYCLES[cycle - 1]\n",
    "    print(f\"{cycle} {CYCLES[cycle - 1]}\")"
   ]
  },
  {
   "cell_type": "code",
   "execution_count": null,
   "metadata": {},
   "outputs": [],
   "source": [
    "print(CYCLES)"
   ]
  },
  {
   "cell_type": "code",
   "execution_count": null,
   "metadata": {},
   "outputs": [],
   "source": [
    "print(CYCLES[19])"
   ]
  },
  {
   "cell_type": "code",
   "execution_count": null,
   "metadata": {},
   "outputs": [],
   "source": [
    "print(total_signal_strength)"
   ]
  },
  {
   "cell_type": "code",
   "execution_count": null,
   "metadata": {},
   "outputs": [],
   "source": []
  }
 ],
 "metadata": {
  "kernelspec": {
   "display_name": "Python 3.10.8 64-bit",
   "language": "python",
   "name": "python3"
  },
  "language_info": {
   "codemirror_mode": {
    "name": "ipython",
    "version": 3
   },
   "file_extension": ".py",
   "mimetype": "text/x-python",
   "name": "python",
   "nbconvert_exporter": "python",
   "pygments_lexer": "ipython3",
   "version": "3.10.8"
  },
  "orig_nbformat": 4,
  "vscode": {
   "interpreter": {
    "hash": "b0fa6594d8f4cbf19f97940f81e996739fb7646882a419484c72d19e05852a7e"
   }
  }
 },
 "nbformat": 4,
 "nbformat_minor": 2
}
