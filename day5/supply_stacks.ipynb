{
 "cells": [
  {
   "cell_type": "code",
   "execution_count": null,
   "metadata": {},
   "outputs": [],
   "source": [
    "# test data:\n",
    "#     [D]    \n",
    "# [N] [C]    \n",
    "# [Z] [M] [P]\n",
    "#  1   2   3 \n",
    "\n",
    "# move 1 from 2 to 1\n",
    "# move 3 from 1 to 3\n",
    "# move 2 from 2 to 1\n",
    "# move 1 from 1 to 2\n",
    "\n",
    "test_data = open('test.txt', 'r').read().splitlines()\n",
    "print(test_data)"
   ]
  },
  {
   "cell_type": "code",
   "execution_count": null,
   "metadata": {},
   "outputs": [],
   "source": [
    "# build data structure representing the stacks\n",
    "def parse_data(data):\n",
    "    # find the crate stacks and also the crate moving instructions\n",
    "    stacks = []\n",
    "    instructions = []\n",
    "    for line in data:\n",
    "        if line.strip().startswith('['):\n",
    "            stacks.append(line)\n",
    "        elif line.strip().startswith('1'):\n",
    "            stacks.append(line)\n",
    "        elif line == '':\n",
    "            continue\n",
    "        else:    \n",
    "            instructions.append(line)\n",
    "    return stacks, instructions\n",
    "\n",
    "stacks, instructions = parse_data(test_data)\n",
    "print(stacks[-1].split(\" \"))\n",
    "print(instructions)"
   ]
  },
  {
   "cell_type": "code",
   "execution_count": null,
   "metadata": {},
   "outputs": [],
   "source": [
    "stacks_dict = {}\n",
    "for stack_num in stacks[-1].split(\" \"):\n",
    "    if stack_num.isdigit():\n",
    "        stacks_dict[stack_num] = []\n",
    "    else:\n",
    "        continue\n",
    "\n",
    "print(stacks_dict)"
   ]
  },
  {
   "cell_type": "code",
   "execution_count": null,
   "metadata": {},
   "outputs": [],
   "source": [
    "# a crate is represented by something like [D] or [N]. An empty spot is represented by 3 spaces \"   \"\n",
    "test_supply_list = '[J]     [Z] [T]     [R] [H] [J]    '\n",
    "\n",
    "# split the string into a list of crates\n",
    "\n"
   ]
  },
  {
   "cell_type": "code",
   "execution_count": null,
   "metadata": {},
   "outputs": [],
   "source": [
    "import re\n",
    "\n",
    "def parse_crates(string):\n",
    "    # Use the re.findall function to extract all the crate IDs and empty spaces\n",
    "    crates_and_spaces = re.findall(r'\\[[A-Z]\\]|   ', string)\n",
    "\n",
    "    # Use the re.sub function to remove the square brackets from the crate IDs\n",
    "    crates = [re.sub(r'\\[|\\]', '', crate) for crate in crates_and_spaces]\n",
    "\n",
    "    # Return the list of crates and empty spaces\n",
    "    return crates\n",
    "\n",
    "# Example usage\n",
    "string = '[J]     [Z] [T]     [R] [H] [J]    '\n",
    "crates = parse_crates(string)\n",
    "print(crates)\n"
   ]
  },
  {
   "cell_type": "code",
   "execution_count": null,
   "metadata": {},
   "outputs": [],
   "source": [
    "print(stacks[-1][1])"
   ]
  },
  {
   "cell_type": "code",
   "execution_count": null,
   "metadata": {},
   "outputs": [],
   "source": [
    "if stacks[-1][1] == '1':\n",
    "    stacks.pop()"
   ]
  },
  {
   "cell_type": "code",
   "execution_count": null,
   "metadata": {},
   "outputs": [],
   "source": [
    "# process stacks last to first\n",
    "for stack in stacks[::-1]:\n",
    "    # split the stack into a list of crates\n",
    "    crates = parse_crates(stack)\n",
    "    print(crates)\n"
   ]
  },
  {
   "cell_type": "code",
   "execution_count": null,
   "metadata": {},
   "outputs": [],
   "source": [
    "# process stacks last to first\n",
    "for stack in stacks:\n",
    "    # split the stack into a list of crates\n",
    "    crates = parse_crates(stack)\n",
    "    crate_index = 1\n",
    "    for crate in crates:\n",
    "        if crate == '   ':\n",
    "            # empty spot, skip\n",
    "            crate_index += 1\n",
    "            continue\n",
    "        else:\n",
    "            # add the crate to the stack_dict\n",
    "            stacks_dict[str(crate_index)].insert(0, crate)\n",
    "            crate_index += 1\n",
    "\n",
    "\n",
    "print(stacks_dict)"
   ]
  },
  {
   "cell_type": "code",
   "execution_count": null,
   "metadata": {},
   "outputs": [],
   "source": [
    "for instruction in instructions:\n",
    "    # create move_total, move_from, move_to by regex extracting the numbers from the instruction\n",
    "    move_total, move_from, move_to = re.findall(r'\\d+', instruction)\n",
    "    # move the crates from the move_from stack to the move_to stack one at a time\n",
    "    for i in range(int(move_total)):\n",
    "        crate = stacks_dict[move_from].pop()\n",
    "        print(f\"moving {crate} from {move_from} to {move_to}\")\n",
    "        stacks_dict[move_to].append(crate)\n",
    " \n",
    "print(stacks_dict)"
   ]
  },
  {
   "cell_type": "code",
   "execution_count": null,
   "metadata": {},
   "outputs": [],
   "source": [
    "top_of_stack_string = ''\n",
    "for k, v in stacks_dict.items():\n",
    "    top_of_stack_string += v[-1]\n",
    "\n",
    "print(top_of_stack_string)"
   ]
  },
  {
   "cell_type": "code",
   "execution_count": null,
   "metadata": {},
   "outputs": [],
   "source": [
    "# Define the input string\n",
    "input_string = \"[N]     [Q]         [N]            \"\n",
    "\n",
    "# process the input string with the pattern:\n",
    "# select 3 characters, add them to a list\n",
    "# skip a character unless it's the last character\n",
    "# select the next 3 characters, add them to a list, repeat\n",
    "\n",
    "resulting_list = []\n",
    "for i in range(0, len(input_string), 4):\n",
    "    resulting_list.append(input_string[i:i+3])\n",
    "\n",
    "print(resulting_list)\n"
   ]
  },
  {
   "cell_type": "code",
   "execution_count": null,
   "metadata": {},
   "outputs": [],
   "source": []
  }
 ],
 "metadata": {
  "kernelspec": {
   "display_name": "Python 3.10.8 64-bit",
   "language": "python",
   "name": "python3"
  },
  "language_info": {
   "codemirror_mode": {
    "name": "ipython",
    "version": 3
   },
   "file_extension": ".py",
   "mimetype": "text/x-python",
   "name": "python",
   "nbconvert_exporter": "python",
   "pygments_lexer": "ipython3",
   "version": "3.10.8"
  },
  "orig_nbformat": 4,
  "vscode": {
   "interpreter": {
    "hash": "b0fa6594d8f4cbf19f97940f81e996739fb7646882a419484c72d19e05852a7e"
   }
  }
 },
 "nbformat": 4,
 "nbformat_minor": 2
}
