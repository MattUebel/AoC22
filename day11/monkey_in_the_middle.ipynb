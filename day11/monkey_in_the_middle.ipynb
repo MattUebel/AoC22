{
 "cells": [
  {
   "cell_type": "code",
   "execution_count": null,
   "metadata": {},
   "outputs": [],
   "source": [
    "config = open(\"input.txt\").read().splitlines()\n",
    "print(config)\n",
    "\n",
    "# example config\n",
    "# Monkey 0:\n",
    "#   Starting items: 79, 98\n",
    "#   Operation: new = old * 19\n",
    "#   Test: divisible by 23\n",
    "#     If true: throw to monkey 2\n",
    "#     If false: throw to monkey 3\n",
    "\n",
    "# Monkey 1:\n",
    "#   Starting items: 54, 65, 75, 74\n",
    "#   Operation: new = old + 6\n",
    "#   Test: divisible by 19\n",
    "#     If true: throw to monkey 2\n",
    "#     If false: throw to monkey 0\n",
    "\n",
    "# Monkey 2:\n",
    "#   Starting items: 79, 60, 97\n",
    "#   Operation: new = old * old\n",
    "#   Test: divisible by 13\n",
    "#     If true: throw to monkey 1\n",
    "#     If false: throw to monkey 3\n",
    "\n",
    "# Monkey 3:\n",
    "#   Starting items: 74\n",
    "#   Operation: new = old + 3\n",
    "#   Test: divisible by 17\n",
    "#     If true: throw to monkey 0\n",
    "#     If false: throw to monkey 1"
   ]
  },
  {
   "cell_type": "code",
   "execution_count": null,
   "metadata": {},
   "outputs": [],
   "source": [
    "# parse monkey config\n",
    "monkey_config = {}\n",
    "for line in config:\n",
    "    if line.startswith(\"Monkey\"):\n",
    "        monkey = int(line.split(\" \")[1][:-1])\n",
    "        monkey_config[monkey] = {}\n",
    "        monkey_config[monkey][\"items\"] = config[config.index(line) + 1][18:].split(\", \")\n",
    "        monkey_config[monkey][\"operation\"] = lambda old: eval(config[config.index(line) + 2][19:])\n",
    "        monkey_config[monkey][\"test\"] = config[config.index(line) + 3][21:]\n",
    "        monkey_config[monkey][\"if_true\"] = config[config.index(line) + 4][29:]\n",
    "        monkey_config[monkey][\"if_false\"] = config[config.index(line) + 5][30:]\n",
    "\n",
    "pprint(monkey_config)\n",
    "        "
   ]
  },
  {
   "cell_type": "code",
   "execution_count": null,
   "metadata": {},
   "outputs": [],
   "source": [
    "from pprint import pprint\n",
    "pprint(monkey_config)"
   ]
  },
  {
   "cell_type": "code",
   "execution_count": null,
   "metadata": {},
   "outputs": [],
   "source": [
    "# lambda function that is equivilent to the operation\n",
    "operation = ['', 'new', '=', 'old', '+', '6']\n",
    "operation = lambda x: eval (f\"{x} {' '.join(operation[3:])}\") if operation[1] == \"new\" else eval (f\"{x} {' '.join(operation[2:])}\") \n",
    "# lambda that increments by 3\n",
    "operation = lambda x: x + 3"
   ]
  },
  {
   "cell_type": "code",
   "execution_count": null,
   "metadata": {},
   "outputs": [],
   "source": [
    "# this comment explains what python eval does\n",
    "# eval is a built-in function that evaluates a string as a python expression\n",
    "# an example is eval(\"1 + 1\") which evaluates to 2\n",
    "lambda old: eval(f\"x\")\n",
    "\n",
    "foo = lambda old: eval(\"old + 6\")\n",
    "foo(5)"
   ]
  },
  {
   "cell_type": "code",
   "execution_count": null,
   "metadata": {},
   "outputs": [],
   "source": [
    "foo = 22\n",
    "23 // 3"
   ]
  },
  {
   "cell_type": "code",
   "execution_count": null,
   "metadata": {},
   "outputs": [],
   "source": [
    "22 / 3"
   ]
  },
  {
   "cell_type": "code",
   "execution_count": null,
   "metadata": {},
   "outputs": [],
   "source": [
    "config = open(\"test.txt\").read().splitlines()\n",
    "\n",
    "# parse monkey config\n",
    "monkey_config = {}\n",
    "for line in config:\n",
    "    if line.startswith(\"Monkey\"):\n",
    "        monkey = int(line.split(\" \")[1][:-1])\n",
    "        monkey_config[monkey] = {}\n",
    "        monkey_config[monkey][\"items\"] = config[config.index(line) + 1][18:].split(\", \")\n",
    "        monkey_config[monkey][\"operation\"] = lambda old: eval(\n",
    "            config[config.index(line) + 2][19:]\n",
    "        )\n",
    "        monkey_config[monkey][\"test\"] = config[config.index(line) + 3][21:]\n",
    "        monkey_config[monkey][\"if_true\"] = config[config.index(line) + 4][29:]\n",
    "        monkey_config[monkey][\"if_false\"] = config[config.index(line) + 5][30:]\n",
    "\n"
   ]
  },
  {
   "cell_type": "code",
   "execution_count": null,
   "metadata": {},
   "outputs": [],
   "source": [
    "print(monkey_config)"
   ]
  },
  {
   "cell_type": "code",
   "execution_count": null,
   "metadata": {},
   "outputs": [],
   "source": [
    "for monkey in monkey_config.keys():\n",
    "    for item in monkey_config[monkey][\"items\"]:\n",
    "        print(monkey_config[monkey][\"operation\"](int(item)))\n",
    "        print(int(item))"
   ]
  },
  {
   "cell_type": "code",
   "execution_count": null,
   "metadata": {},
   "outputs": [],
   "source": [
    "monkey_config[0][\"operation\"](1)"
   ]
  },
  {
   "cell_type": "code",
   "execution_count": null,
   "metadata": {},
   "outputs": [],
   "source": []
  }
 ],
 "metadata": {
  "kernelspec": {
   "display_name": "Python 3.10.8 64-bit",
   "language": "python",
   "name": "python3"
  },
  "language_info": {
   "codemirror_mode": {
    "name": "ipython",
    "version": 3
   },
   "file_extension": ".py",
   "mimetype": "text/x-python",
   "name": "python",
   "nbconvert_exporter": "python",
   "pygments_lexer": "ipython3",
   "version": "3.10.8"
  },
  "orig_nbformat": 4,
  "vscode": {
   "interpreter": {
    "hash": "b0fa6594d8f4cbf19f97940f81e996739fb7646882a419484c72d19e05852a7e"
   }
  }
 },
 "nbformat": 4,
 "nbformat_minor": 2
}
