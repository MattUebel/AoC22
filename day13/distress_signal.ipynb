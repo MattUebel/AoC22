{
 "cells": [
  {
   "cell_type": "code",
   "execution_count": null,
   "metadata": {},
   "outputs": [],
   "source": [
    "test_data = open('test.txt').read().splitlines()\n",
    "# test data:\n",
    "# [1,1,3,1,1]\n",
    "# [1,1,5,1,1]\n",
    "\n",
    "# [[1],[2,3,4]]\n",
    "# [[1],4]\n",
    "\n",
    "# [9]\n",
    "# [[8,7,6]]\n",
    "\n",
    "# [[4,4],4,4]\n",
    "# [[4,4],4,4,4]\n",
    "\n",
    "# [7,7,7,7]\n",
    "# [7,7,7]\n",
    "\n",
    "# []\n",
    "# [3]\n",
    "\n",
    "# [[[]]]\n",
    "# [[]]\n",
    "\n",
    "# [1,[2,[3,[4,[5,6,7]]]],8,9]\n",
    "# [1,[2,[3,[4,[5,6,0]]]],8,9]"
   ]
  },
  {
   "cell_type": "code",
   "execution_count": null,
   "metadata": {},
   "outputs": [],
   "source": [
    "list consists of pairs of packets; pairs are separated by a blank line. You need to identify how many pairs of packets are in the right order.\n",
    "\n",
    "Packet data consists of lists and integers. Each list starts with [, ends with ], and contains zero or more comma-separated values (either integers or other lists). Each packet is always a list and appears on its own line.\n",
    "\n",
    "When comparing two values, the first value is called left and the second value is called right. Then:\n",
    "\n",
    "If both values are integers, the lower integer should come first. If the left integer is lower than the right integer, the inputs are in the right order. If the left integer is higher than the right integer, the inputs are not in the right order. Otherwise, the inputs are the same integer; continue checking the next part of the input.\n",
    "If both values are lists, compare the first value of each list, then the second value, and so on. If the left list runs out of items first, the inputs are in the right order. If the right list runs out of items first, the inputs are not in the right order. If the lists are the same length and no comparison makes a decision about the order, continue checking the next part of the input.\n",
    "If exactly one value is an integer, convert the integer to a list which contains that integer as its only value, then retry the comparison. For example, if comparing [0,0,0] and 2, convert the right value to [2] (a list containing 2); the result is then found by instead comparing [0,0,0] and [2].\n",
    "Using these rules, you can determine which of the pairs in the example are in the right order:"
   ]
  },
  {
   "cell_type": "code",
   "execution_count": null,
   "metadata": {},
   "outputs": [],
   "source": [
    "def compare_packets(left, right):\n",
    "    # If either packet is empty, they are in the right order if and only if the left packet is empty\n",
    "    if not left or not right:\n",
    "        return not left\n",
    "\n",
    "    # Get the first value of each packet\n",
    "    left_first = left[0]\n",
    "    right_first = right[0]\n",
    "\n",
    "    # If the first values are both integers, compare them and return the result\n",
    "    if isinstance(left_first, int) and isinstance(right_first, int):\n",
    "        return left_first < right_first\n",
    "\n",
    "    # If the first values are both lists, compare them and return the result\n",
    "    elif isinstance(left_first, list) and isinstance(right_first, list):\n",
    "        return compare_packets(left_first, right_first)\n",
    "\n",
    "    # Otherwise, if the left value is an integer, convert it to a list and retry the comparison\n",
    "    elif isinstance(left_first, int):\n",
    "        return compare_packets([left_first], right)\n",
    "\n",
    "    # Otherwise, the right value must be an integer, so convert it to a list and retry the comparison\n",
    "    else:\n",
    "        return compare_packets(left, [right_first])\n",
    "\n",
    "# get a tuple for each pair of packets from test.txt . Packet pairs are split by two new lines\n",
    "packets = [tuple(packet.splitlines()) for packet in open('test.txt').read().split('\\n\\n')]"
   ]
  },
  {
   "cell_type": "code",
   "execution_count": null,
   "metadata": {},
   "outputs": [],
   "source": [
    "print(packets)"
   ]
  },
  {
   "cell_type": "code",
   "execution_count": null,
   "metadata": {},
   "outputs": [],
   "source": [
    "# increase recursion limit to 1000\n",
    "import sys\n",
    "sys.setrecursionlimit(10000)\n",
    "\n",
    "for l, r in packets:\n",
    "    print(compare_packets(eval(l), eval(r)))"
   ]
  },
  {
   "cell_type": "code",
   "execution_count": null,
   "metadata": {},
   "outputs": [],
   "source": [
    "def compare_packets(left, right):\n",
    "    # Create a stack to store the values that need to be compared\n",
    "    stack = []\n",
    "\n",
    "    # Push the left and right packets onto the stack\n",
    "    stack.append((left, right))\n",
    "\n",
    "    # Keep comparing packets until the stack is empty\n",
    "    while stack:\n",
    "        # Pop the left and right packets off the top of the stack\n",
    "        left, right = stack.pop()\n",
    "\n",
    "        # If either packet is empty, they are in the right order if and only if the left packet is empty\n",
    "        if not left or not right:\n",
    "            return not left\n",
    "\n",
    "        # Get the first value of each packet\n",
    "        left_first = left[0]\n",
    "        right_first = right[0]\n",
    "\n",
    "        # If the first values are both integers, compare them and return the result\n",
    "        if isinstance(left_first, int) and isinstance(right_first, int):\n",
    "            return left_first < right_first\n",
    "\n",
    "        # If the first values are both lists, push them onto the stack to be compared later\n",
    "        elif isinstance(left_first, list) and isinstance(right_first, list):\n",
    "            stack.append((left_first, right_first))\n",
    "\n",
    "        # Otherwise, if the left value is an integer, convert it to a list and retry the comparison\n",
    "        elif isinstance(left_first, int):\n",
    "            stack.append(([left_first], right))\n",
    "\n",
    "        # Otherwise, the right value must be an integer, so convert it to a list and retry the comparison\n",
    "        else:\n",
    "            stack.append((left, [right_first]))\n",
    "\n",
    "    # If the stack is empty, the packets must be in the right order\n",
    "    return True\n",
    "\n",
    "# get a tuple for each pair of packets from test.txt . Packet pairs are split by two new lines\n",
    "packets = [tuple(packet.splitlines()) for packet in open('test.txt').read().split('\\n\\n')]\n",
    "print(packets)"
   ]
  },
  {
   "cell_type": "code",
   "execution_count": null,
   "metadata": {},
   "outputs": [],
   "source": [
    "for l, r in packets:\n",
    "    print(eval(l), eval(r))"
   ]
  },
  {
   "cell_type": "code",
   "execution_count": null,
   "metadata": {},
   "outputs": [],
   "source": [
    "stack = []\n",
    "stack.append((eval(l), eval(r)))\n",
    "print(stack)"
   ]
  },
  {
   "cell_type": "code",
   "execution_count": null,
   "metadata": {},
   "outputs": [],
   "source": [
    "for l, r in stack.pop():\n",
    "    print(l, r)"
   ]
  },
  {
   "cell_type": "code",
   "execution_count": null,
   "metadata": {},
   "outputs": [],
   "source": [
    "print(stack.pop())"
   ]
  },
  {
   "cell_type": "code",
   "execution_count": null,
   "metadata": {},
   "outputs": [],
   "source": [
    "packets = [tuple(packet.splitlines()) for packet in open('test.txt').read().split('\\n\\n')]\n",
    "for l, r in packets:\n",
    "    stack = []\n",
    "    stack.append((eval(l), eval(r)))\n",
    "    while stack:\n",
    "        left, right = stack.pop()\n",
    "        if not left or not right:\n",
    "             print(not left)\n",
    "        elif isinstance(left, int) and isinstance(right, int):\n",
    "            print(left < right)\n",
    "        elif isinstance(left, list) and isinstance(right, list):\n",
    "            stack.append((left, right))\n",
    "        elif isinstance(left, int):\n",
    "            stack.append(left, [right])\n",
    "        elif isinstance(right, int):\n",
    "            stack.append([left], right)\n",
    "        else:\n",
    "            \n",
    "\n",
    "\n",
    "        "
   ]
  },
  {
   "cell_type": "code",
   "execution_count": null,
   "metadata": {},
   "outputs": [],
   "source": [
    "def compare_packets(left, right):\n",
    "    # Create a queue to store the packets that need to be compared\n",
    "    queue = [(left, right)]\n",
    "\n",
    "    # While there are packets in the queue\n",
    "    while queue:\n",
    "        # Get the next packets to compare\n",
    "        left, right = queue.pop(0)\n",
    "\n",
    "        # If either packet is empty, they are in the right order if and only if the left packet is empty\n",
    "        if not left or not right:\n",
    "            return not left\n",
    "\n",
    "        # Get the first value of each packet\n",
    "        left_first = left[0]\n",
    "        right_first = right[0]\n",
    "\n",
    "        # If the first values are both integers, compare them and return the result\n",
    "        if isinstance(left_first, int) and isinstance(right_first, int):\n",
    "            return left_first < right_first\n",
    "\n",
    "        # If the first values are both lists, add them to the queue to be compared later\n",
    "        elif isinstance(left_first, list) and isinstance(right_first, list):\n",
    "            queue.append((left_first, right_first))\n",
    "\n",
    "        # Otherwise, if the left value is an integer, convert it to a list and add it to the queue to be compared later\n",
    "        elif isinstance(left_first, int):\n",
    "            queue.append(([left_first], right))\n",
    "\n",
    "        # Otherwise, the right value must be an integer, so convert it to a list and add it to the queue to be compared later\n",
    "        else:\n",
    "            queue.append((left, [right_first]))\n",
    "\n",
    "packets = [tuple(packet.splitlines()) for packet in open('test.txt').read().split('\\n\\n')]\n",
    "import ast\n",
    "for l, r in packets:\n",
    "    print(compare_packets(ast.literal_eval(l), ast.literal_eval(r)))"
   ]
  },
  {
   "cell_type": "code",
   "execution_count": null,
   "metadata": {},
   "outputs": [],
   "source": []
  }
 ],
 "metadata": {
  "kernelspec": {
   "display_name": "Python 3.10.8 64-bit",
   "language": "python",
   "name": "python3"
  },
  "language_info": {
   "codemirror_mode": {
    "name": "ipython",
    "version": 3
   },
   "file_extension": ".py",
   "mimetype": "text/x-python",
   "name": "python",
   "nbconvert_exporter": "python",
   "pygments_lexer": "ipython3",
   "version": "3.10.8"
  },
  "orig_nbformat": 4,
  "vscode": {
   "interpreter": {
    "hash": "b0fa6594d8f4cbf19f97940f81e996739fb7646882a419484c72d19e05852a7e"
   }
  }
 },
 "nbformat": 4,
 "nbformat_minor": 2
}
