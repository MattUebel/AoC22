{
 "cells": [
  {
   "cell_type": "code",
   "execution_count": null,
   "metadata": {},
   "outputs": [],
   "source": [
    "test_datastream = \"mjqjpqmgbljsphdztnvjfqwrcgsmlb\"\n",
    "test_strings = [ \"bvwbjplbgvbhsrlpgdmjqwftvncz\", \"nppdvjthqldpwncqszvftbrmjlhg\", \"nznrnfrfntjfmvfwmzdfjlvtqnbhcprsg\", \"zcfzfwzzqfrljwzlrfnpqdbhtmscgvjw\"]\n",
    "\n",
    "# examine characters in test_datastream, a sliding window of 4 looking for 4 distinct characters\n",
    "# if found, return the total amount of characters that have been examined\n",
    "def sliding_window(string):\n",
    "  # Set the size of the sliding window to 4 characters\n",
    "  window_size = 14\n",
    "\n",
    "  # Loop through the string, starting at the first character\n",
    "  for i in range(len(string)):\n",
    "    # Extract the current window of characters from the string\n",
    "    window = string[i:i+window_size]\n",
    "\n",
    "    # Check if the window is the correct size\n",
    "    if len(window) == window_size:\n",
    "      # check if the window contains 4 distinct characters\n",
    "        if not len(set(window)) < len(window):\n",
    "            print(window)\n",
    "            print(i + window_size)\n",
    "            break\n",
    "\n",
    "sliding_window(test_datastream)\n",
    "\n",
    "for string in test_strings:\n",
    "  sliding_window(string)\n",
    "\n"
   ]
  },
  {
   "cell_type": "code",
   "execution_count": null,
   "metadata": {},
   "outputs": [],
   "source": [
    "data = open(\"input.txt\", \"r\").read().splitlines()\n",
    "print(data[0], len(data))"
   ]
  },
  {
   "cell_type": "code",
   "execution_count": null,
   "metadata": {},
   "outputs": [],
   "source": [
    "sliding_window(data[0])"
   ]
  },
  {
   "cell_type": "code",
   "execution_count": null,
   "metadata": {},
   "outputs": [],
   "source": [
    "def sliding_window(string, window_size):\n",
    "\n",
    "  # Loop through the string, starting at the first character\n",
    "  for i in range(len(string)):\n",
    "    # Extract the current window of characters from the string\n",
    "    window = string[i:i+window_size]\n",
    "\n",
    "    # Check if the window is the correct size\n",
    "    if len(window) == window_size:\n",
    "      # check if the window contains 4 distinct characters\n",
    "        if not len(set(window)) < len(window):\n",
    "            print(f\"character {i + window_size} is the last character in the window of size {window_size} that don't repeat\")\n",
    "            break\n",
    "\n",
    "data = open(\"input.txt\", \"r\").read().splitlines()\n",
    "sliding_window(data[0], 4)\n",
    "sliding_window(data[0], 14)"
   ]
  },
  {
   "cell_type": "code",
   "execution_count": null,
   "metadata": {},
   "outputs": [],
   "source": []
  }
 ],
 "metadata": {
  "kernelspec": {
   "display_name": "Python 3.10.8 64-bit",
   "language": "python",
   "name": "python3"
  },
  "language_info": {
   "codemirror_mode": {
    "name": "ipython",
    "version": 3
   },
   "file_extension": ".py",
   "mimetype": "text/x-python",
   "name": "python",
   "nbconvert_exporter": "python",
   "pygments_lexer": "ipython3",
   "version": "3.10.8"
  },
  "orig_nbformat": 4,
  "vscode": {
   "interpreter": {
    "hash": "b0fa6594d8f4cbf19f97940f81e996739fb7646882a419484c72d19e05852a7e"
   }
  }
 },
 "nbformat": 4,
 "nbformat_minor": 2
}
